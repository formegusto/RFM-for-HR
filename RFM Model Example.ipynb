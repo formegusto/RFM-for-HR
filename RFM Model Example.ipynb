{
 "cells": [
  {
   "cell_type": "code",
   "execution_count": 23,
   "id": "2ef97ca2",
   "metadata": {},
   "outputs": [],
   "source": [
    "import pandas as pd\n",
    "import numpy as np"
   ]
  },
  {
   "cell_type": "code",
   "execution_count": 5,
   "id": "961c4b4d",
   "metadata": {},
   "outputs": [
    {
     "name": "stdout",
     "output_type": "stream",
     "text": [
      "열 수 - 8, 행 수 - 541909\n"
     ]
    },
    {
     "data": {
      "text/html": [
       "<div>\n",
       "<style scoped>\n",
       "    .dataframe tbody tr th:only-of-type {\n",
       "        vertical-align: middle;\n",
       "    }\n",
       "\n",
       "    .dataframe tbody tr th {\n",
       "        vertical-align: top;\n",
       "    }\n",
       "\n",
       "    .dataframe thead th {\n",
       "        text-align: right;\n",
       "    }\n",
       "</style>\n",
       "<table border=\"1\" class=\"dataframe\">\n",
       "  <thead>\n",
       "    <tr style=\"text-align: right;\">\n",
       "      <th></th>\n",
       "      <th>InvoiceNo</th>\n",
       "      <th>StockCode</th>\n",
       "      <th>Description</th>\n",
       "      <th>Quantity</th>\n",
       "      <th>InvoiceDate</th>\n",
       "      <th>UnitPrice</th>\n",
       "      <th>CustomerID</th>\n",
       "      <th>Country</th>\n",
       "    </tr>\n",
       "  </thead>\n",
       "  <tbody>\n",
       "    <tr>\n",
       "      <th>0</th>\n",
       "      <td>536365</td>\n",
       "      <td>85123A</td>\n",
       "      <td>WHITE HANGING HEART T-LIGHT HOLDER</td>\n",
       "      <td>6</td>\n",
       "      <td>12/1/2010 8:26</td>\n",
       "      <td>2.55</td>\n",
       "      <td>17850.0</td>\n",
       "      <td>United Kingdom</td>\n",
       "    </tr>\n",
       "    <tr>\n",
       "      <th>1</th>\n",
       "      <td>536365</td>\n",
       "      <td>71053</td>\n",
       "      <td>WHITE METAL LANTERN</td>\n",
       "      <td>6</td>\n",
       "      <td>12/1/2010 8:26</td>\n",
       "      <td>3.39</td>\n",
       "      <td>17850.0</td>\n",
       "      <td>United Kingdom</td>\n",
       "    </tr>\n",
       "    <tr>\n",
       "      <th>2</th>\n",
       "      <td>536365</td>\n",
       "      <td>84406B</td>\n",
       "      <td>CREAM CUPID HEARTS COAT HANGER</td>\n",
       "      <td>8</td>\n",
       "      <td>12/1/2010 8:26</td>\n",
       "      <td>2.75</td>\n",
       "      <td>17850.0</td>\n",
       "      <td>United Kingdom</td>\n",
       "    </tr>\n",
       "    <tr>\n",
       "      <th>3</th>\n",
       "      <td>536365</td>\n",
       "      <td>84029G</td>\n",
       "      <td>KNITTED UNION FLAG HOT WATER BOTTLE</td>\n",
       "      <td>6</td>\n",
       "      <td>12/1/2010 8:26</td>\n",
       "      <td>3.39</td>\n",
       "      <td>17850.0</td>\n",
       "      <td>United Kingdom</td>\n",
       "    </tr>\n",
       "    <tr>\n",
       "      <th>4</th>\n",
       "      <td>536365</td>\n",
       "      <td>84029E</td>\n",
       "      <td>RED WOOLLY HOTTIE WHITE HEART.</td>\n",
       "      <td>6</td>\n",
       "      <td>12/1/2010 8:26</td>\n",
       "      <td>3.39</td>\n",
       "      <td>17850.0</td>\n",
       "      <td>United Kingdom</td>\n",
       "    </tr>\n",
       "  </tbody>\n",
       "</table>\n",
       "</div>"
      ],
      "text/plain": [
       "  InvoiceNo StockCode                          Description  Quantity  \\\n",
       "0    536365    85123A   WHITE HANGING HEART T-LIGHT HOLDER         6   \n",
       "1    536365     71053                  WHITE METAL LANTERN         6   \n",
       "2    536365    84406B       CREAM CUPID HEARTS COAT HANGER         8   \n",
       "3    536365    84029G  KNITTED UNION FLAG HOT WATER BOTTLE         6   \n",
       "4    536365    84029E       RED WOOLLY HOTTIE WHITE HEART.         6   \n",
       "\n",
       "      InvoiceDate  UnitPrice  CustomerID         Country  \n",
       "0  12/1/2010 8:26       2.55     17850.0  United Kingdom  \n",
       "1  12/1/2010 8:26       3.39     17850.0  United Kingdom  \n",
       "2  12/1/2010 8:26       2.75     17850.0  United Kingdom  \n",
       "3  12/1/2010 8:26       3.39     17850.0  United Kingdom  \n",
       "4  12/1/2010 8:26       3.39     17850.0  United Kingdom  "
      ]
     },
     "execution_count": 5,
     "metadata": {},
     "output_type": "execute_result"
    }
   ],
   "source": [
    "df = pd.read_csv('./data/ecommerce-data.csv', encoding='ISO-8859-1')\n",
    "\n",
    "print(\"열 수 - {}, 행 수 - {}\".format(len(df.columns), len(df)))\n",
    "df.head()"
   ]
  },
  {
   "cell_type": "markdown",
   "id": "b8c53ab3",
   "metadata": {},
   "source": [
    "### 연도와 월로 나누기"
   ]
  },
  {
   "cell_type": "code",
   "execution_count": 35,
   "id": "d611cb45",
   "metadata": {},
   "outputs": [
    {
     "name": "stdout",
     "output_type": "stream",
     "text": [
      "[(2011, 10), (2011, 6), (2011, 3), (2011, 9), (2010, 12), (2011, 12), (2011, 2), (2011, 5), (2011, 11), (2011, 8), (2011, 4), (2011, 1), (2011, 7)]\n"
     ]
    }
   ],
   "source": [
    "df['InvoiceDate'] = pd.to_datetime(df['InvoiceDate'])\n",
    "\n",
    "set_of_year_month = list(set([(x.year, x.month) for x in df['InvoiceDate']]))\n",
    "print(set_of_year_month)"
   ]
  },
  {
   "cell_type": "markdown",
   "id": "9a526497",
   "metadata": {},
   "source": [
    "### 데이터 분포 살피기"
   ]
  },
  {
   "cell_type": "code",
   "execution_count": 36,
   "id": "2ce42182",
   "metadata": {},
   "outputs": [],
   "source": [
    "import matplotlib.pyplot as plt\n",
    "import seaborn as sns\n",
    "from collections import Counter"
   ]
  },
  {
   "cell_type": "code",
   "execution_count": 39,
   "id": "836e7d78",
   "metadata": {},
   "outputs": [
    {
     "data": {
      "image/png": "[encoded data removed]",
      "text/plain": [
       "<Figure size 576x576 with 1 Axes>"
      ]
     },
     "metadata": {},
     "output_type": "display_data"
    }
   ],
   "source": [
    "nation_data = Counter(df['Country']).most_common()\n",
    "nation_data = nation_data[:5]\n",
    "\n",
    "data = [x[1] for x in nation_data]\n",
    "nations = [x[0] for x in nation_data]\n",
    "\n",
    "nations.reverse()\n",
    "data.reverse()\n",
    "\n",
    "fig = plt.figure(figsize=(8,8))\n",
    "\n",
    "fig.set_facecolor('white')\n",
    "colors = sns.color_palette('hls', len(data))\n",
    "plt.yticks(fontsize=15)\n",
    "plt.xticks(fontsize=12)\n",
    "\n",
    "plt.barh(nations, data, color=colors, alpha=0.6, edgecolor='k')\n",
    "plt.show()"
   ]
  },
  {
   "cell_type": "markdown",
   "id": "6b37edd8",
   "metadata": {},
   "source": [
    "### 데이터 전처리"
   ]
  },
  {
   "cell_type": "code",
   "execution_count": 53,
   "id": "2638fd0b",
   "metadata": {},
   "outputs": [
    {
     "name": "stdout",
     "output_type": "stream",
     "text": [
      "열 수 - 5, 행 수 - 330402\n"
     ]
    },
    {
     "data": {
      "text/html": [
       "<div>\n",
       "<style scoped>\n",
       "    .dataframe tbody tr th:only-of-type {\n",
       "        vertical-align: middle;\n",
       "    }\n",
       "\n",
       "    .dataframe tbody tr th {\n",
       "        vertical-align: top;\n",
       "    }\n",
       "\n",
       "    .dataframe thead th {\n",
       "        text-align: right;\n",
       "    }\n",
       "</style>\n",
       "<table border=\"1\" class=\"dataframe\">\n",
       "  <thead>\n",
       "    <tr style=\"text-align: right;\">\n",
       "      <th></th>\n",
       "      <th>InvoiceNo</th>\n",
       "      <th>Quantity</th>\n",
       "      <th>InvoiceDate</th>\n",
       "      <th>UnitPrice</th>\n",
       "      <th>CustomerID</th>\n",
       "    </tr>\n",
       "  </thead>\n",
       "  <tbody>\n",
       "    <tr>\n",
       "      <th>42481</th>\n",
       "      <td>539993</td>\n",
       "      <td>10</td>\n",
       "      <td>2011-01-04 10:00:00</td>\n",
       "      <td>1.95</td>\n",
       "      <td>13313.0</td>\n",
       "    </tr>\n",
       "    <tr>\n",
       "      <th>42482</th>\n",
       "      <td>539993</td>\n",
       "      <td>25</td>\n",
       "      <td>2011-01-04 10:00:00</td>\n",
       "      <td>0.42</td>\n",
       "      <td>13313.0</td>\n",
       "    </tr>\n",
       "    <tr>\n",
       "      <th>42483</th>\n",
       "      <td>539993</td>\n",
       "      <td>25</td>\n",
       "      <td>2011-01-04 10:00:00</td>\n",
       "      <td>0.42</td>\n",
       "      <td>13313.0</td>\n",
       "    </tr>\n",
       "    <tr>\n",
       "      <th>42484</th>\n",
       "      <td>539993</td>\n",
       "      <td>5</td>\n",
       "      <td>2011-01-04 10:00:00</td>\n",
       "      <td>2.10</td>\n",
       "      <td>13313.0</td>\n",
       "    </tr>\n",
       "    <tr>\n",
       "      <th>42485</th>\n",
       "      <td>539993</td>\n",
       "      <td>10</td>\n",
       "      <td>2011-01-04 10:00:00</td>\n",
       "      <td>1.25</td>\n",
       "      <td>13313.0</td>\n",
       "    </tr>\n",
       "  </tbody>\n",
       "</table>\n",
       "</div>"
      ],
      "text/plain": [
       "      InvoiceNo  Quantity         InvoiceDate  UnitPrice  CustomerID\n",
       "42481    539993        10 2011-01-04 10:00:00       1.95     13313.0\n",
       "42482    539993        25 2011-01-04 10:00:00       0.42     13313.0\n",
       "42483    539993        25 2011-01-04 10:00:00       0.42     13313.0\n",
       "42484    539993         5 2011-01-04 10:00:00       2.10     13313.0\n",
       "42485    539993        10 2011-01-04 10:00:00       1.25     13313.0"
      ]
     },
     "execution_count": 53,
     "metadata": {},
     "output_type": "execute_result"
    }
   ],
   "source": [
    "import pandas as pd\n",
    "\n",
    "df = pd.read_csv('./data/ecommerce-data.csv', encoding='ISO-8859-1')\n",
    "df['InvoiceDate'] = pd.to_datetime(df['InvoiceDate'])\n",
    "\n",
    "# 가장 많은 데이터와 2011년도 데이터 설정\n",
    "target_country = 'United Kingdom'\n",
    "target_year = 2011\n",
    "\n",
    "df = df[(df['Country'] == target_country) & (df['InvoiceDate'].dt.year == target_year)]\n",
    "need_cols = ['InvoiceNo', 'Quantity', 'InvoiceDate', 'UnitPrice', 'CustomerID']\n",
    "df = df[need_cols]\n",
    "df.dropna(inplace=True)\n",
    "\n",
    "df = df[df['InvoiceNo'].str.get(0) != \"C\"]\n",
    "\n",
    "print(\"열 수 - {}, 행 수 - {}\".format(len(df.columns), len(df)))\n",
    "df.head()"
   ]
  },
  {
   "cell_type": "markdown",
   "id": "9768bb3f",
   "metadata": {},
   "source": [
    "### 데이터 분석"
   ]
  },
  {
   "cell_type": "code",
   "execution_count": 57,
   "id": "132db592",
   "metadata": {},
   "outputs": [],
   "source": [
    "import pandas as pd\n",
    "from tqdm import tqdm\n",
    "\n",
    "customer_id = list(df['CustomerID'].unique())"
   ]
  },
  {
   "cell_type": "markdown",
   "id": "6ba912c1",
   "metadata": {},
   "source": [
    "#### 최근방문일 (Recently)"
   ]
  },
  {
   "cell_type": "code",
   "execution_count": 67,
   "id": "360a3ce8",
   "metadata": {},
   "outputs": [
    {
     "data": {
      "text/html": [
       "<div>\n",
       "<style scoped>\n",
       "    .dataframe tbody tr th:only-of-type {\n",
       "        vertical-align: middle;\n",
       "    }\n",
       "\n",
       "    .dataframe tbody tr th {\n",
       "        vertical-align: top;\n",
       "    }\n",
       "\n",
       "    .dataframe thead th {\n",
       "        text-align: right;\n",
       "    }\n",
       "</style>\n",
       "<table border=\"1\" class=\"dataframe\">\n",
       "  <thead>\n",
       "    <tr style=\"text-align: right;\">\n",
       "      <th></th>\n",
       "      <th>CustomerID</th>\n",
       "      <th>Recency</th>\n",
       "    </tr>\n",
       "  </thead>\n",
       "  <tbody>\n",
       "    <tr>\n",
       "      <th>0</th>\n",
       "      <td>12346.0</td>\n",
       "      <td>2011-01-18 10:01:00</td>\n",
       "    </tr>\n",
       "    <tr>\n",
       "      <th>1</th>\n",
       "      <td>12747.0</td>\n",
       "      <td>2011-12-07 14:34:00</td>\n",
       "    </tr>\n",
       "    <tr>\n",
       "      <th>2</th>\n",
       "      <td>12748.0</td>\n",
       "      <td>2011-12-09 12:20:00</td>\n",
       "    </tr>\n",
       "    <tr>\n",
       "      <th>3</th>\n",
       "      <td>12749.0</td>\n",
       "      <td>2011-12-06 09:56:00</td>\n",
       "    </tr>\n",
       "    <tr>\n",
       "      <th>4</th>\n",
       "      <td>12820.0</td>\n",
       "      <td>2011-12-06 15:12:00</td>\n",
       "    </tr>\n",
       "  </tbody>\n",
       "</table>\n",
       "</div>"
      ],
      "text/plain": [
       "   CustomerID             Recency\n",
       "0     12346.0 2011-01-18 10:01:00\n",
       "1     12747.0 2011-12-07 14:34:00\n",
       "2     12748.0 2011-12-09 12:20:00\n",
       "3     12749.0 2011-12-06 09:56:00\n",
       "4     12820.0 2011-12-06 15:12:00"
      ]
     },
     "execution_count": 67,
     "metadata": {},
     "output_type": "execute_result"
    }
   ],
   "source": [
    "tmp_recency_df = df[['CustomerID', 'InvoiceDate']].drop_duplicates()\n",
    "recency_df = tmp_recency_df.groupby('CustomerID')['InvoiceDate'].max().reset_index()\n",
    "recency_df = recency_df.rename(columns={'InvoiceDate':'Recency'})\n",
    "\n",
    "recency_df.head()"
   ]
  },
  {
   "cell_type": "markdown",
   "id": "578eb1ac",
   "metadata": {},
   "source": [
    "#### 방문횟수 (Frequency)"
   ]
  },
  {
   "cell_type": "code",
   "execution_count": 68,
   "id": "ca9a2c0b",
   "metadata": {},
   "outputs": [],
   "source": [
    "tmp_frequency_df = df[['CustomerID', 'InvoiceNo']].drop_duplicates()\n",
    "frequency_df = tmp_frequency_df.groupby('CustomerID')['InvoiceNo'].count().reset_index()\n",
    "frequency_df = frequency_df.rename(columns={'InvoiceNo':'Frequency'})\n",
    "\n",
    "ferequency_df.head()"
   ]
  },
  {
   "cell_type": "markdown",
   "id": "67f21227",
   "metadata": {},
   "source": [
    "#### 구매액 (Monetary)"
   ]
  },
  {
   "cell_type": "code",
   "execution_count": 58,
   "id": "d7fd7009",
   "metadata": {},
   "outputs": [
    {
     "name": "stderr",
     "output_type": "stream",
     "text": [
      "Calculating amount of individual customer: 100%|█████████████████████████████████| 3814/3814 [00:04<00:00, 942.09it/s]\n"
     ]
    },
    {
     "data": {
      "text/html": [
       "<div>\n",
       "<style scoped>\n",
       "    .dataframe tbody tr th:only-of-type {\n",
       "        vertical-align: middle;\n",
       "    }\n",
       "\n",
       "    .dataframe tbody tr th {\n",
       "        vertical-align: top;\n",
       "    }\n",
       "\n",
       "    .dataframe thead th {\n",
       "        text-align: right;\n",
       "    }\n",
       "</style>\n",
       "<table border=\"1\" class=\"dataframe\">\n",
       "  <thead>\n",
       "    <tr style=\"text-align: right;\">\n",
       "      <th></th>\n",
       "      <th>CustomerID</th>\n",
       "      <th>Monetary</th>\n",
       "    </tr>\n",
       "  </thead>\n",
       "  <tbody>\n",
       "    <tr>\n",
       "      <th>0</th>\n",
       "      <td>13313.0</td>\n",
       "      <td>1555.32</td>\n",
       "    </tr>\n",
       "    <tr>\n",
       "      <th>1</th>\n",
       "      <td>18097.0</td>\n",
       "      <td>2515.28</td>\n",
       "    </tr>\n",
       "    <tr>\n",
       "      <th>2</th>\n",
       "      <td>16656.0</td>\n",
       "      <td>8197.04</td>\n",
       "    </tr>\n",
       "    <tr>\n",
       "      <th>3</th>\n",
       "      <td>16875.0</td>\n",
       "      <td>2095.53</td>\n",
       "    </tr>\n",
       "    <tr>\n",
       "      <th>4</th>\n",
       "      <td>13094.0</td>\n",
       "      <td>1703.64</td>\n",
       "    </tr>\n",
       "  </tbody>\n",
       "</table>\n",
       "</div>"
      ],
      "text/plain": [
       "   CustomerID  Monetary\n",
       "0     13313.0   1555.32\n",
       "1     18097.0   2515.28\n",
       "2     16656.0   8197.04\n",
       "3     16875.0   2095.53\n",
       "4     13094.0   1703.64"
      ]
     },
     "execution_count": 58,
     "metadata": {},
     "output_type": "execute_result"
    }
   ],
   "source": [
    "monetary_df = pd.DataFrame()\n",
    "monetary_df['CustomerID'] = customer_id\n",
    "\n",
    "monetary_data = []\n",
    "for ci in tqdm(customer_id, position=0,desc='Calculating amount of individual customer'):\n",
    "    tmp = df[df['CustomerID'] == ci]\n",
    "    amount = sum(tmp['Quantity'] * tmp['UnitPrice'])\n",
    "    monetary_data.append(amount)\n",
    "\n",
    "monetary_df['Monetary'] = monetary_data\n",
    "monetary_df.head()"
   ]
  },
  {
   "cell_type": "markdown",
   "id": "aceda245",
   "metadata": {},
   "source": [
    "#### RFM"
   ]
  },
  {
   "cell_type": "code",
   "execution_count": 69,
   "id": "45f7d2b5",
   "metadata": {},
   "outputs": [
    {
     "data": {
      "text/html": [
       "<div>\n",
       "<style scoped>\n",
       "    .dataframe tbody tr th:only-of-type {\n",
       "        vertical-align: middle;\n",
       "    }\n",
       "\n",
       "    .dataframe tbody tr th {\n",
       "        vertical-align: top;\n",
       "    }\n",
       "\n",
       "    .dataframe thead th {\n",
       "        text-align: right;\n",
       "    }\n",
       "</style>\n",
       "<table border=\"1\" class=\"dataframe\">\n",
       "  <thead>\n",
       "    <tr style=\"text-align: right;\">\n",
       "      <th></th>\n",
       "      <th>CustomerID</th>\n",
       "      <th>Recency</th>\n",
       "      <th>Frequency</th>\n",
       "      <th>Monetary</th>\n",
       "    </tr>\n",
       "  </thead>\n",
       "  <tbody>\n",
       "    <tr>\n",
       "      <th>0</th>\n",
       "      <td>12346.0</td>\n",
       "      <td>2011-01-18 10:01:00</td>\n",
       "      <td>1</td>\n",
       "      <td>77183.60</td>\n",
       "    </tr>\n",
       "    <tr>\n",
       "      <th>1</th>\n",
       "      <td>12747.0</td>\n",
       "      <td>2011-12-07 14:34:00</td>\n",
       "      <td>9</td>\n",
       "      <td>3489.74</td>\n",
       "    </tr>\n",
       "    <tr>\n",
       "      <th>2</th>\n",
       "      <td>12748.0</td>\n",
       "      <td>2011-12-09 12:20:00</td>\n",
       "      <td>175</td>\n",
       "      <td>29491.60</td>\n",
       "    </tr>\n",
       "    <tr>\n",
       "      <th>3</th>\n",
       "      <td>12749.0</td>\n",
       "      <td>2011-12-06 09:56:00</td>\n",
       "      <td>5</td>\n",
       "      <td>4090.88</td>\n",
       "    </tr>\n",
       "    <tr>\n",
       "      <th>4</th>\n",
       "      <td>12820.0</td>\n",
       "      <td>2011-12-06 15:12:00</td>\n",
       "      <td>4</td>\n",
       "      <td>942.34</td>\n",
       "    </tr>\n",
       "  </tbody>\n",
       "</table>\n",
       "</div>"
      ],
      "text/plain": [
       "   CustomerID             Recency  Frequency  Monetary\n",
       "0     12346.0 2011-01-18 10:01:00          1  77183.60\n",
       "1     12747.0 2011-12-07 14:34:00          9   3489.74\n",
       "2     12748.0 2011-12-09 12:20:00        175  29491.60\n",
       "3     12749.0 2011-12-06 09:56:00          5   4090.88\n",
       "4     12820.0 2011-12-06 15:12:00          4    942.34"
      ]
     },
     "execution_count": 69,
     "metadata": {},
     "output_type": "execute_result"
    }
   ],
   "source": [
    "rfm_df = pd.merge(recency_df, frequency_df, how='left', on='CustomerID')\n",
    "rfm_df = pd.merge(rfm_df, monetary_df, how='left', on='CustomerID')\n",
    "rfm_df.head()"
   ]
  },
  {
   "cell_type": "markdown",
   "id": "77dd9669",
   "metadata": {},
   "source": [
    "### Recency 전처리\n",
    "- rfm에서 현재 fm이 가지는 특성인, frequency와 monetary가 높을수록 큰 점수를 주는 것 처럼 최근방문일도 큰 값을 가질수록 큰 점수를 주기 위함\n",
    "- 그래서 현재 데이터의 연도인 2011년 01월 01일을 기준으로 시간차이가 클수록 최근인 걸로"
   ]
  },
  {
   "cell_type": "code",
   "execution_count": 72,
   "id": "eae8885b",
   "metadata": {},
   "outputs": [],
   "source": [
    "current_day = pd.to_datetime(\"20110101\")\n",
    "time_diff = rfm_df['Recency'] - current_day\n",
    "time_in_secods = [x.total_seconds() for x in time_diff]\n",
    "rfm_df['Recency'] = time_in_secods"
   ]
  },
  {
   "cell_type": "code",
   "execution_count": 74,
   "id": "b380d638",
   "metadata": {},
   "outputs": [
    {
     "data": {
      "text/html": [
       "<div>\n",
       "<style scoped>\n",
       "    .dataframe tbody tr th:only-of-type {\n",
       "        vertical-align: middle;\n",
       "    }\n",
       "\n",
       "    .dataframe tbody tr th {\n",
       "        vertical-align: top;\n",
       "    }\n",
       "\n",
       "    .dataframe thead th {\n",
       "        text-align: right;\n",
       "    }\n",
       "</style>\n",
       "<table border=\"1\" class=\"dataframe\">\n",
       "  <thead>\n",
       "    <tr style=\"text-align: right;\">\n",
       "      <th></th>\n",
       "      <th>CustomerID</th>\n",
       "      <th>Recency</th>\n",
       "      <th>Frequency</th>\n",
       "      <th>Monetary</th>\n",
       "    </tr>\n",
       "  </thead>\n",
       "  <tbody>\n",
       "    <tr>\n",
       "      <th>0</th>\n",
       "      <td>12346.0</td>\n",
       "      <td>1504860.0</td>\n",
       "      <td>1</td>\n",
       "      <td>77183.60</td>\n",
       "    </tr>\n",
       "    <tr>\n",
       "      <th>1</th>\n",
       "      <td>12747.0</td>\n",
       "      <td>29428440.0</td>\n",
       "      <td>9</td>\n",
       "      <td>3489.74</td>\n",
       "    </tr>\n",
       "    <tr>\n",
       "      <th>2</th>\n",
       "      <td>12748.0</td>\n",
       "      <td>29593200.0</td>\n",
       "      <td>175</td>\n",
       "      <td>29491.60</td>\n",
       "    </tr>\n",
       "    <tr>\n",
       "      <th>3</th>\n",
       "      <td>12749.0</td>\n",
       "      <td>29325360.0</td>\n",
       "      <td>5</td>\n",
       "      <td>4090.88</td>\n",
       "    </tr>\n",
       "    <tr>\n",
       "      <th>4</th>\n",
       "      <td>12820.0</td>\n",
       "      <td>29344320.0</td>\n",
       "      <td>4</td>\n",
       "      <td>942.34</td>\n",
       "    </tr>\n",
       "  </tbody>\n",
       "</table>\n",
       "</div>"
      ],
      "text/plain": [
       "   CustomerID     Recency  Frequency  Monetary\n",
       "0     12346.0   1504860.0          1  77183.60\n",
       "1     12747.0  29428440.0          9   3489.74\n",
       "2     12748.0  29593200.0        175  29491.60\n",
       "3     12749.0  29325360.0          5   4090.88\n",
       "4     12820.0  29344320.0          4    942.34"
      ]
     },
     "execution_count": 74,
     "metadata": {},
     "output_type": "execute_result"
    }
   ],
   "source": [
    "rfm_df.head()"
   ]
  },
  {
   "cell_type": "markdown",
   "id": "c04156e3",
   "metadata": {},
   "source": [
    "#### Utils"
   ]
  },
  {
   "cell_type": "code",
   "execution_count": 76,
   "id": "0ea47f24",
   "metadata": {},
   "outputs": [],
   "source": [
    "def get_score(level, data):\n",
    "    score = []\n",
    "    for j in range(len(data)):\n",
    "        for i in range(len(level)):\n",
    "            if data[j] <= level[i]:\n",
    "                score.append(i + 1)\n",
    "                break\n",
    "            elif data[j] > max(level):\n",
    "                score.append(len(level) + 1)\n",
    "                break\n",
    "            else:\n",
    "                continue\n",
    "    \n",
    "    return score\n",
    "\n",
    "def get_rfm_grade(df, num_class, rfm_tick_point, rfm_col_map, suffix=None):\n",
    "    import pandas as pd\n",
    "    import numpy as np\n",
    "    from sklearn import preprocessing\n",
    "    \n",
    "    for k,v in rfm_tick_point.items():\n",
    "        if isinstance(v, str):\n",
    "            if v == \"quantile\":\n",
    "                scale = preprocessing.StandardScaler()\n",
    "                tmp_data = np.array(df[rfm_col_map[k]])\n",
    "                tmp_data = tmp_data.reshape((-1, 1))\n",
    "                tmp_data = tmp_data.squeeze()\n",
    "                \n",
    "                quantiles_level = np.linspace(0, 1, num_class+1)[1: -1]\n",
    "                quantiles = []\n",
    "                for ql in quantiles_level:\n",
    "                    quantiles.append(np.quantile(tmp_data, ql))\n",
    "            else:\n",
    "                tmp_data = np.array(df[rfm_col_map[k]])\n",
    "                \n",
    "                quantiles = np.linspace(np.min(tmp_data), np.max(tmp_data), num_class + 1)[1:-1]\n",
    "        else:\n",
    "            tmp_data = np.array(df[rfm_col_map[k]])\n",
    "            quantiles = v\n",
    "        score = get_score(quantiles, tmp_data)\n",
    "        new_col_name = rfm_col_map[k] + '_' + k\n",
    "        if suffix:\n",
    "            new_col_name = rfm_col_map[k] + \"_\"+suffix\n",
    "        df[new_col_name] = score\n",
    "    return df"
   ]
  },
  {
   "cell_type": "code",
   "execution_count": 77,
   "id": "7136b93f",
   "metadata": {},
   "outputs": [
    {
     "data": {
      "text/plain": [
       "[3, 2, 2, 2, 1]"
      ]
     },
     "execution_count": 77,
     "metadata": {},
     "output_type": "execute_result"
    }
   ],
   "source": [
    "get_score([55, 85], [100, 85, 70, 60, 55])"
   ]
  },
  {
   "cell_type": "code",
   "execution_count": 78,
   "id": "14203128",
   "metadata": {},
   "outputs": [],
   "source": [
    "rfm_tick_point = {'R': \"quantile\", 'F': \"quantile\", 'M': 'quantile'}\n",
    "rfm_col_map = {'R': 'Recency', 'F': 'Frequency', 'M': 'Monetary'}\n",
    "\n",
    "result = get_rfm_grade(df=rfm_df, num_class=5, rfm_tick_point=rfm_tick_point, rfm_col_map=rfm_col_map)\n",
    "result.to_csv('result.csv', index=False)"
   ]
  },
  {
   "cell_type": "code",
   "execution_count": 79,
   "id": "c75198ea",
   "metadata": {},
   "outputs": [
    {
     "data": {
      "text/html": [
       "<div>\n",
       "<style scoped>\n",
       "    .dataframe tbody tr th:only-of-type {\n",
       "        vertical-align: middle;\n",
       "    }\n",
       "\n",
       "    .dataframe tbody tr th {\n",
       "        vertical-align: top;\n",
       "    }\n",
       "\n",
       "    .dataframe thead th {\n",
       "        text-align: right;\n",
       "    }\n",
       "</style>\n",
       "<table border=\"1\" class=\"dataframe\">\n",
       "  <thead>\n",
       "    <tr style=\"text-align: right;\">\n",
       "      <th></th>\n",
       "      <th>CustomerID</th>\n",
       "      <th>Recency</th>\n",
       "      <th>Frequency</th>\n",
       "      <th>Monetary</th>\n",
       "      <th>Recency_R</th>\n",
       "      <th>Frequency_F</th>\n",
       "      <th>Monetary_M</th>\n",
       "    </tr>\n",
       "  </thead>\n",
       "  <tbody>\n",
       "    <tr>\n",
       "      <th>0</th>\n",
       "      <td>12346.0</td>\n",
       "      <td>1504860.0</td>\n",
       "      <td>1</td>\n",
       "      <td>77183.60</td>\n",
       "      <td>1</td>\n",
       "      <td>1</td>\n",
       "      <td>5</td>\n",
       "    </tr>\n",
       "    <tr>\n",
       "      <th>1</th>\n",
       "      <td>12747.0</td>\n",
       "      <td>29428440.0</td>\n",
       "      <td>9</td>\n",
       "      <td>3489.74</td>\n",
       "      <td>5</td>\n",
       "      <td>5</td>\n",
       "      <td>5</td>\n",
       "    </tr>\n",
       "    <tr>\n",
       "      <th>2</th>\n",
       "      <td>12748.0</td>\n",
       "      <td>29593200.0</td>\n",
       "      <td>175</td>\n",
       "      <td>29491.60</td>\n",
       "      <td>5</td>\n",
       "      <td>5</td>\n",
       "      <td>5</td>\n",
       "    </tr>\n",
       "    <tr>\n",
       "      <th>3</th>\n",
       "      <td>12749.0</td>\n",
       "      <td>29325360.0</td>\n",
       "      <td>5</td>\n",
       "      <td>4090.88</td>\n",
       "      <td>5</td>\n",
       "      <td>4</td>\n",
       "      <td>5</td>\n",
       "    </tr>\n",
       "    <tr>\n",
       "      <th>4</th>\n",
       "      <td>12820.0</td>\n",
       "      <td>29344320.0</td>\n",
       "      <td>4</td>\n",
       "      <td>942.34</td>\n",
       "      <td>5</td>\n",
       "      <td>4</td>\n",
       "      <td>4</td>\n",
       "    </tr>\n",
       "  </tbody>\n",
       "</table>\n",
       "</div>"
      ],
      "text/plain": [
       "   CustomerID     Recency  Frequency  Monetary  Recency_R  Frequency_F  \\\n",
       "0     12346.0   1504860.0          1  77183.60          1            1   \n",
       "1     12747.0  29428440.0          9   3489.74          5            5   \n",
       "2     12748.0  29593200.0        175  29491.60          5            5   \n",
       "3     12749.0  29325360.0          5   4090.88          5            4   \n",
       "4     12820.0  29344320.0          4    942.34          5            4   \n",
       "\n",
       "   Monetary_M  \n",
       "0           5  \n",
       "1           5  \n",
       "2           5  \n",
       "3           5  \n",
       "4           4  "
      ]
     },
     "execution_count": 79,
     "metadata": {},
     "output_type": "execute_result"
    }
   ],
   "source": [
    "result.head()"
   ]
  }
 ],
 "metadata": {
  "kernelspec": {
   "display_name": "Python 3 (ipykernel)",
   "language": "python",
   "name": "python3"
  },
  "language_info": {
   "codemirror_mode": {
    "name": "ipython",
    "version": 3
   },
   "file_extension": ".py",
   "mimetype": "text/x-python",
   "name": "python",
   "nbconvert_exporter": "python",
   "pygments_lexer": "ipython3",
   "version": "3.8.12"
  }
 },
 "nbformat": 4,
 "nbformat_minor": 5
}
