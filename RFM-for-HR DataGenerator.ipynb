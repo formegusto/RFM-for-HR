{
 "cells": [
  {
   "cell_type": "code",
   "execution_count": 3,
   "id": "4851eec6",
   "metadata": {},
   "outputs": [],
   "source": [
    "from pymongo import MongoClient as mc\n",
    "\n",
    "mongo_uri = \"mongodb://localhost:27017\"\n",
    "conn = mc(mongo_uri)['rfm-for-hr']\n",
    "\n",
    "human = conn.human"
   ]
  },
  {
   "cell_type": "code",
   "execution_count": null,
   "id": "974e196a",
   "metadata": {},
   "outputs": [],
   "source": [
    "## Model Human\n",
    "class Human:\n",
    "    def __init__(self):\n",
    "        mongo_uri = \"mongodb://localhost:27017\"\n",
    "        self.conn = mc(mongo_uri)['rfm-for-hr']\n",
    "        self.col = self.conn.human"
   ]
  }
 ],
 "metadata": {
  "kernelspec": {
   "display_name": "Python 3",
   "language": "python",
   "name": "python3"
  },
  "language_info": {
   "codemirror_mode": {
    "name": "ipython",
    "version": 3
   },
   "file_extension": ".py",
   "mimetype": "text/x-python",
   "name": "python",
   "nbconvert_exporter": "python",
   "pygments_lexer": "ipython3",
   "version": "3.9.4"
  }
 },
 "nbformat": 4,
 "nbformat_minor": 5
}
