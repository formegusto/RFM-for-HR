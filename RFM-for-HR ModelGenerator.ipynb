{
 "cells": [
  {
   "cell_type": "code",
   "execution_count": 46,
   "id": "bad515be",
   "metadata": {},
   "outputs": [
    {
     "name": "stdout",
     "output_type": "stream",
     "text": [
      "The autoreload extension is already loaded. To reload it, use:\n",
      "  %reload_ext autoreload\n"
     ]
    }
   ],
   "source": [
    "%load_ext autoreload\n",
    "%autoreload 2\n",
    "%reload_ext autoreload\n",
    "\n",
    "from src.models import HumanModel, ScheduleModel, ScoreBoardModel, SensingModel"
   ]
  },
  {
   "cell_type": "markdown",
   "id": "8a19566a",
   "metadata": {},
   "source": [
    "### Human\n",
    "- 인적자원 정보"
   ]
  },
  {
   "cell_type": "code",
   "execution_count": 55,
   "id": "f7977d36",
   "metadata": {},
   "outputs": [],
   "source": [
    "human = HumanModel()\n",
    "human.save(\"직원 1\")\n",
    "human.save(\"직원 2\")\n",
    "human.save(\"직원 3\")"
   ]
  },
  {
   "cell_type": "code",
   "execution_count": 56,
   "id": "bf980e20",
   "metadata": {},
   "outputs": [
    {
     "data": {
      "text/plain": [
       "{'_id': ObjectId('634f696e4ffe567665ce7608'), 'name': '직원 3'}"
      ]
     },
     "execution_count": 56,
     "metadata": {},
     "output_type": "execute_result"
    }
   ],
   "source": [
    "human.find(\"직원 3\")"
   ]
  },
  {
   "cell_type": "markdown",
   "id": "05b1385a",
   "metadata": {},
   "source": [
    "### Schedule"
   ]
  },
  {
   "cell_type": "code",
   "execution_count": 57,
   "id": "2bf31abc",
   "metadata": {},
   "outputs": [],
   "source": [
    "schedule = ScheduleModel()\n",
    "schedule.save(\"출근 확인\", 9, 10, \"static\")\n",
    "schedule.save(\"업무 진행 중\", 9, 12, \"real-time\")\n",
    "schedule.save(\"점심시간\", 12, 13, \"stop-observe\")\n",
    "schedule.save(\"업무 진행 중\", 13, 18, \"real-time\")\n",
    "schedule.save(\"퇴근\", 18, 9, \"stop-observe\")"
   ]
  },
  {
   "cell_type": "markdown",
   "id": "3331c834",
   "metadata": {},
   "source": [
    "### ScoreBoard"
   ]
  },
  {
   "cell_type": "code",
   "execution_count": 58,
   "id": "10fb020d",
   "metadata": {},
   "outputs": [],
   "source": [
    "score_board = ScoreBoardModel()\n",
    "score_board.save(5, 10, 2)\n",
    "score_board.save(11, 20, 4)\n",
    "score_board.save(21, 30, 6)\n",
    "score_board.save(31, 40, 8)\n",
    "score_board.save(41, 50, 10)\n",
    "score_board.save(51, 99999, 15)"
   ]
  },
  {
   "cell_type": "markdown",
   "id": "b24b572a",
   "metadata": {},
   "source": [
    "### Sensing"
   ]
  },
  {
   "cell_type": "code",
   "execution_count": 59,
   "id": "c334d39c",
   "metadata": {},
   "outputs": [],
   "source": [
    "from datetime import datetime as dt"
   ]
  },
  {
   "cell_type": "code",
   "execution_count": 63,
   "id": "dcfa674c",
   "metadata": {},
   "outputs": [
    {
     "name": "stdout",
     "output_type": "stream",
     "text": [
      "minute 20\n"
     ]
    }
   ],
   "source": [
    "human = HumanModel()\n",
    "schedule = ScheduleModel()\n",
    "\n",
    "emp = human.find(\"직원 1\")\n",
    "schedule = schedule.find(\"출근 확인\")\n",
    "\n",
    "user_id = emp[\"_id\"]\n",
    "schedule_id = schedule[\"_id\"]\n",
    "start_time = \"20220901T09:00\"\n",
    "end_time = \"20220901T09:20\"\n",
    "\n",
    "sensing = SensingModel()\n",
    "sensing.save(user_id, schedule_id, start_time, end_time)"
   ]
  },
  {
   "cell_type": "markdown",
   "id": "07c005f3",
   "metadata": {},
   "source": [
    "### Sensing Generator"
   ]
  },
  {
   "cell_type": "code",
   "execution_count": 76,
   "id": "4d5aac05",
   "metadata": {},
   "outputs": [],
   "source": [
    "import json\n",
    "\n",
    "human_model = HumanModel()\n",
    "schedule_model = ScheduleModel()\n",
    "sensing_model = SensingModel()"
   ]
  },
  {
   "cell_type": "code",
   "execution_count": 85,
   "id": "6fca8027",
   "metadata": {},
   "outputs": [],
   "source": [
    "with open(\"./data/emp1_09.json\", \"r\") as json_file:\n",
    "    emp1_09 = json.load(json_file)\n",
    "    \n",
    "emp_name = emp1_09['emp_name']\n",
    "sensings = emp1_09['sensings']\n",
    "emp_id = human_model.find(emp_name)['_id']\n",
    "\n",
    "for sensing in sensings:\n",
    "    schedule_id = schedule_model.find(sensing['name'])['_id']\n",
    "    start_time = sensing['start_time']\n",
    "    end_time = sensing['end_time']\n",
    "    \n",
    "    sensing_model.save(emp_id, schedule_id, start_time, end_time)"
   ]
  },
  {
   "cell_type": "code",
   "execution_count": 86,
   "id": "9d7ecb4b",
   "metadata": {},
   "outputs": [],
   "source": [
    "with open(\"./data/emp2_09.json\", \"r\") as json_file:\n",
    "    emp2_09 = json.load(json_file)\n",
    "    \n",
    "emp_name = emp2_09['emp_name']\n",
    "sensings = emp2_09['sensings']\n",
    "emp_id = human_model.find(emp_name)['_id']\n",
    "\n",
    "for sensing in sensings:\n",
    "    schedule_id = schedule_model.find(sensing['name'])['_id']\n",
    "    start_time = sensing['start_time']\n",
    "    end_time = sensing['end_time']\n",
    "    \n",
    "    sensing_model.save(emp_id, schedule_id, start_time, end_time)"
   ]
  },
  {
   "cell_type": "code",
   "execution_count": 87,
   "id": "2a181ca5",
   "metadata": {},
   "outputs": [],
   "source": [
    "with open(\"./data/emp3_09.json\", \"r\") as json_file:\n",
    "    emp3_09 = json.load(json_file)\n",
    "    \n",
    "emp_name = emp3_09['emp_name']\n",
    "sensings = emp3_09['sensings']\n",
    "emp_id = human_model.find(emp_name)['_id']\n",
    "\n",
    "for sensing in sensings:\n",
    "    schedule_id = schedule_model.find(sensing['name'])['_id']\n",
    "    start_time = sensing['start_time']\n",
    "    end_time = sensing['end_time']\n",
    "    \n",
    "    sensing_model.save(emp_id, schedule_id, start_time, end_time)"
   ]
  },
  {
   "cell_type": "code",
   "execution_count": 88,
   "id": "17fe0aa2",
   "metadata": {},
   "outputs": [],
   "source": [
    "with open(\"./data/emp1_10.json\", \"r\") as json_file:\n",
    "    emp1_10 = json.load(json_file)\n",
    "    \n",
    "emp_name = emp1_10['emp_name']\n",
    "sensings = emp1_10['sensings']\n",
    "emp_id = human_model.find(emp_name)['_id']\n",
    "\n",
    "for sensing in sensings:\n",
    "    schedule_id = schedule_model.find(sensing['name'])['_id']\n",
    "    start_time = sensing['start_time']\n",
    "    end_time = sensing['end_time']\n",
    "    \n",
    "    sensing_model.save(emp_id, schedule_id, start_time, end_time)"
   ]
  },
  {
   "cell_type": "code",
   "execution_count": 90,
   "id": "3a327d28",
   "metadata": {},
   "outputs": [],
   "source": [
    "with open(\"./data/emp3_10.json\", \"r\") as json_file:\n",
    "    emp3_10 = json.load(json_file)\n",
    "    \n",
    "emp_name = emp3_10['emp_name']\n",
    "sensings = emp3_10['sensings']\n",
    "emp_id = human_model.find(emp_name)['_id']\n",
    "\n",
    "for sensing in sensings:\n",
    "    schedule_id = schedule_model.find(sensing['name'])['_id']\n",
    "    start_time = sensing['start_time']\n",
    "    end_time = sensing['end_time']\n",
    "    \n",
    "    sensing_model.save(emp_id, schedule_id, start_time, end_time)"
   ]
  }
 ],
 "metadata": {
  "kernelspec": {
   "display_name": "Python 3",
   "language": "python",
   "name": "python3"
  },
  "language_info": {
   "codemirror_mode": {
    "name": "ipython",
    "version": 3
   },
   "file_extension": ".py",
   "mimetype": "text/x-python",
   "name": "python",
   "nbconvert_exporter": "python",
   "pygments_lexer": "ipython3",
   "version": "3.9.4"
  }
 },
 "nbformat": 4,
 "nbformat_minor": 5
}
