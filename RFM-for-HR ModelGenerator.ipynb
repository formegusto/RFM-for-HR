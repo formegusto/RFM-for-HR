{
 "cells": [
  {
   "cell_type": "code",
   "execution_count": 46,
   "id": "bad515be",
   "metadata": {},
   "outputs": [
    {
     "name": "stdout",
     "output_type": "stream",
     "text": [
      "The autoreload extension is already loaded. To reload it, use:\n",
      "  %reload_ext autoreload\n"
     ]
    }
   ],
   "source": [
    "%load_ext autoreload\n",
    "%autoreload 2\n",
    "%reload_ext autoreload\n",
    "\n",
    "from src.models import HumanModel, ScheduleModel, ScoreBoardModel, SensingModel"
   ]
  },
  {
   "cell_type": "markdown",
   "id": "8a19566a",
   "metadata": {},
   "source": [
    "### Human\n",
    "- 인적자원 정보"
   ]
  },
  {
   "cell_type": "code",
   "execution_count": 55,
   "id": "f7977d36",
   "metadata": {},
   "outputs": [],
   "source": [
    "human = HumanModel()\n",
    "human.save(\"직원 1\")\n",
    "human.save(\"직원 2\")\n",
    "human.save(\"직원 3\")"
   ]
  },
  {
   "cell_type": "code",
   "execution_count": 56,
   "id": "bf980e20",
   "metadata": {},
   "outputs": [
    {
     "data": {
      "text/plain": [
       "{'_id': ObjectId('634f696e4ffe567665ce7608'), 'name': '직원 3'}"
      ]
     },
     "execution_count": 56,
     "metadata": {},
     "output_type": "execute_result"
    }
   ],
   "source": [
    "human.find(\"직원 3\")"
   ]
  },
  {
   "cell_type": "markdown",
   "id": "05b1385a",
   "metadata": {},
   "source": [
    "### Schedule"
   ]
  },
  {
   "cell_type": "code",
   "execution_count": 57,
   "id": "2bf31abc",
   "metadata": {},
   "outputs": [],
   "source": [
    "schedule = ScheduleModel()\n",
    "schedule.save(\"출근 확인\", 9, 10, \"static\")\n",
    "schedule.save(\"업무 진행 중\", 9, 12, \"real-time\")\n",
    "schedule.save(\"점심시간\", 12, 13, \"stop-observe\")\n",
    "schedule.save(\"업무 진행 중\", 13, 18, \"real-time\")\n",
    "schedule.save(\"퇴근\", 18, 9, \"stop-observe\")"
   ]
  },
  {
   "cell_type": "markdown",
   "id": "8f99ac3d",
   "metadata": {},
   "source": [
    "### ScoreBoard"
   ]
  },
  {
   "cell_type": "code",
   "execution_count": 58,
   "id": "a1fd6730",
   "metadata": {},
   "outputs": [],
   "source": [
    "score_board = ScoreBoardModel()\n",
    "score_board.save(5, 10, 2)\n",
    "score_board.save(11, 20, 4)\n",
    "score_board.save(21, 30, 6)\n",
    "score_board.save(31, 40, 8)\n",
    "score_board.save(41, 50, 10)\n",
    "score_board.save(51, 99999, 15)"
   ]
  },
  {
   "cell_type": "markdown",
   "id": "88cf8e76",
   "metadata": {},
   "source": [
    "### Sensing"
   ]
  },
  {
   "cell_type": "code",
   "execution_count": 59,
   "id": "169e844d",
   "metadata": {},
   "outputs": [],
   "source": [
    "from datetime import datetime as dt"
   ]
  },
  {
   "cell_type": "code",
   "execution_count": 61,
   "id": "3e697e29",
   "metadata": {},
   "outputs": [],
   "source": [
    "human = HumanModel()\n",
    "schedule = ScheduleModel()\n",
    "\n",
    "emp = human.find(\"직원 1\")\n",
    "schedule = schedule.find(\"출근 확인\")\n",
    "\n",
    "user_id = emp[\"_id\"]\n",
    "schedule_id = schedule[\"_id\"]\n",
    "start_time = \"20220901T09:00\"\n",
    "end_time = \"20220901T09:20\"\n",
    "\n",
    "sensing = SensingModel()\n",
    "sensing.save(user_id, schedule_id, start_time, end_time)"
   ]
  },
  {
   "cell_type": "code",
   "execution_count": 21,
   "id": "a0ca090b",
   "metadata": {},
   "outputs": [
    {
     "data": {
      "text/plain": [
       "20.0"
      ]
     },
     "execution_count": 21,
     "metadata": {},
     "output_type": "execute_result"
    }
   ],
   "source": [
    "err = dt.strptime(\"20220901T09:20\", \"%Y%m%dT%H:%M\") - dt.strptime(\"20220901T09:00\", \"%Y%m%dT%H:%M\")"
   ]
  },
  {
   "cell_type": "code",
   "execution_count": 30,
   "id": "22d687da",
   "metadata": {},
   "outputs": [
    {
     "data": {
      "text/plain": [
       "{'_id': ObjectId('634f5ecc4ffe567665ce75b4'),\n",
       " 'start_time': 11,\n",
       " 'end_time': 20,\n",
       " 'socre': 4}"
      ]
     },
     "execution_count": 30,
     "metadata": {},
     "output_type": "execute_result"
    }
   ],
   "source": []
  },
  {
   "cell_type": "code",
   "execution_count": null,
   "id": "6c72e26f",
   "metadata": {},
   "outputs": [],
   "source": []
  }
 ],
 "metadata": {
  "kernelspec": {
   "display_name": "Python 3",
   "language": "python",
   "name": "python3"
  },
  "language_info": {
   "codemirror_mode": {
    "name": "ipython",
    "version": 3
   },
   "file_extension": ".py",
   "mimetype": "text/x-python",
   "name": "python",
   "nbconvert_exporter": "python",
   "pygments_lexer": "ipython3",
   "version": "3.9.4"
  }
 },
 "nbformat": 4,
 "nbformat_minor": 5
}
